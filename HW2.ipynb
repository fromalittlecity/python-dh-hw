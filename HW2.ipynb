{
 "cells": [
  {
   "cell_type": "code",
   "execution_count": 25,
   "metadata": {
    "scrolled": false
   },
   "outputs": [
    {
     "name": "stdout",
     "output_type": "stream",
     "text": [
      "['варкалось', 'хливкие', 'шорьки', 'пырялись', 'по', 'наве', 'и', 'хрюкотали', 'зелюки', 'как', 'мюмзики', 'в', 'мове', 'о', 'бойся', 'бармаглота', 'сын', 'он', 'так', 'свирлеп', 'и', 'дик', 'а', 'в', 'глyще', 'рымит', 'исполин', 'злопастный', 'брандашмыг']\n",
      "варкалось хливкие\n",
      "хливкие шорьки\n",
      "шорьки пырялись\n",
      "пырялись по\n",
      "по наве\n",
      "наве и\n",
      "и хрюкотали\n",
      "хрюкотали зелюки\n",
      "зелюки как\n",
      "как мюмзики\n",
      "мюмзики в\n",
      "в мове\n",
      "мове о\n",
      "о бойся\n",
      "бойся бармаглота\n",
      "бармаглота сын\n",
      "сын он\n",
      "он так\n",
      "так свирлеп\n",
      "свирлеп и\n",
      "и дик\n",
      "дик а\n",
      "а в\n",
      "в глyще\n",
      "глyще рымит\n",
      "рымит исполин\n",
      "исполин злопастный\n",
      "злопастный брандашмыг\n"
     ]
    }
   ],
   "source": [
    "# Задание 1: Необходимо выделить все биграммы в этом тексте и сохранить их список в какую-либо переменную. Биграммы -- это пары стоящих рядом слов, например, \"варкалось хливкие\", \"хливкие шорьки\" и т.д.\n",
    "\n",
    "sentence = \"варкалось хливкие шорьки пырялись по наве и хрюкотали зелюки как мюмзики в мове о бойся бармаглота сын он так свирлеп и дик а в глyще рымит исполин злопастный брандашмыг\"\n",
    "words = sentence.split()\n",
    "print(words)\n",
    "\n",
    "bigrams_sentence = []\n",
    "\n",
    "for i in range (0, len(words) -1):\n",
    "    bigrams = (words[i] + \" \" + words[i + 1])\n",
    "    print(bigrams)\n",
    "    bigrams_sentence.append(bigrams)"
   ]
  },
  {
   "cell_type": "code",
   "execution_count": 84,
   "metadata": {},
   "outputs": [
    {
     "name": "stdout",
     "output_type": "stream",
     "text": [
      "C:\\Users\\imfro\\Desktop\\python-for-dh\\python-dh-hw\\poems\n",
      "боль.txt\n",
      "ворон.txt\n",
      "деды.txt\n",
      "кладь.txt\n",
      "котики\n",
      "ночь.txt\n",
      "сказки\n",
      "шредингер.txt\n",
      "13\n"
     ]
    }
   ],
   "source": [
    "# Задание 2\n",
    "import os\n",
    "#смотрим, в какой папке мы находимся \n",
    "print(os.getcwd())\n",
    "\n",
    "#смотрим содержание и считаем файлы\n",
    "for files in os.listdir('.'):\n",
    "    print(files)\n",
    "print(len(files))"
   ]
  },
  {
   "cell_type": "code",
   "execution_count": 94,
   "metadata": {},
   "outputs": [
    {
     "name": "stdout",
     "output_type": "stream",
     "text": [
      "C:\\Users\\imfro\\Desktop\\python-for-dh\\python-dh-hw\\poems\\poems.txt\n",
      "C:\\Users\\imfro\\Desktop\\python-for-dh\\python-dh-hw\\poems\\боль.txt\n",
      "C:\\Users\\imfro\\Desktop\\python-for-dh\\python-dh-hw\\poems\\ворон.txt\n",
      "C:\\Users\\imfro\\Desktop\\python-for-dh\\python-dh-hw\\poems\\деды.txt\n",
      "C:\\Users\\imfro\\Desktop\\python-for-dh\\python-dh-hw\\poems\\кладь.txt\n",
      "C:\\Users\\imfro\\Desktop\\python-for-dh\\python-dh-hw\\poems\\ночь.txt\n",
      "C:\\Users\\imfro\\Desktop\\python-for-dh\\python-dh-hw\\poems\\шредингер.txt\n",
      "C:\\Users\\imfro\\Desktop\\python-for-dh\\python-dh-hw\\poems\\котики\\кот.txt\n",
      "C:\\Users\\imfro\\Desktop\\python-for-dh\\python-dh-hw\\poems\\котики\\лео.txt\n",
      "C:\\Users\\imfro\\Desktop\\python-for-dh\\python-dh-hw\\poems\\котики\\пушок.txt\n",
      "C:\\Users\\imfro\\Desktop\\python-for-dh\\python-dh-hw\\poems\\сказки\\гримм.txt\n",
      "C:\\Users\\imfro\\Desktop\\python-for-dh\\python-dh-hw\\poems\\сказки\\королевич.txt\n",
      "C:\\Users\\imfro\\Desktop\\python-for-dh\\python-dh-hw\\poems\\сказки\\король.txt\n",
      "C:\\Users\\imfro\\Desktop\\python-for-dh\\python-dh-hw\\poems\\сказки\\крестная.txt\n",
      "C:\\Users\\imfro\\Desktop\\python-for-dh\\python-dh-hw\\poems\\сказки\\яга.txt\n"
     ]
    }
   ],
   "source": [
    "for root, dirs, files in os.walk (r'C:\\Users\\imfro\\Desktop\\python-for-dh\\python-dh-hw\\poems'):\n",
    "\n",
    "    for name in files:\n",
    "        fullname = os.path.join(root, name)\n",
    "        print(fullname)\n",
    "for root, dirs, files in os.walk('.'):\n",
    "    for name in files:\n",
    "        with open(os.path.join(root, name), 'r', encoding ='utf-8') as f:\n",
    "            poetry = f.read()\n",
    "                "
   ]
  },
  {
   "cell_type": "code",
   "execution_count": 118,
   "metadata": {},
   "outputs": [
    {
     "name": "stdout",
     "output_type": "stream",
     "text": [
      "270\n",
      "['Несчастная', 'кошка', 'порезала', 'лапу', 'Сидит', 'и', 'ни', 'шагу', 'не', 'может', 'ступить', 'Скорей', 'чтобы', 'вылечить', 'кошкину', 'лапу', 'Воздушные', 'шарики', 'надо', 'купить', 'И', 'сразу', 'столпился', 'народ', 'на', 'дороге', 'Шумит', 'и', 'кричит', 'и', 'на', 'кошку', 'глядит', 'А', 'кошка', 'отчасти', 'идет', 'по', 'дороге', 'Отчасти', 'по', 'воздуху', 'плавно', 'летит']\n",
      "Несчастная кошка порезала лапу Сидит и ни шагу не может ступить Скорей чтобы вылечить кошкину лапу Воздушные шарики надо купить И сразу столпился народ на дороге Шумит и кричит и на кошку глядит А кошка отчасти идет по дороге Отчасти по воздуху плавно летит\n",
      "44\n",
      "['кошка', 'отчасти', 'идет', 'по', 'дороге', 'Отчасти', 'по', 'воздуху', 'плавно', 'летит']\n",
      "Несчастная\n",
      "кошка\n",
      "порезала\n",
      "лапу\n",
      "Сидит\n",
      "и\n",
      "ни\n",
      "шагу\n",
      "не\n",
      "может\n",
      "ступить\n",
      "Скорей\n",
      "чтобы\n",
      "вылечить\n",
      "кошкину\n",
      "лапу\n",
      "Воздушные\n",
      "шарики\n",
      "надо\n",
      "купить\n",
      "И\n",
      "сразу\n",
      "столпился\n",
      "народ\n",
      "на\n",
      "дороге\n",
      "Шумит\n",
      "и\n",
      "кричит\n",
      "и\n",
      "на\n",
      "кошку\n",
      "глядит\n",
      "А\n",
      "кошка\n",
      "отчасти\n",
      "идет\n",
      "по\n",
      "дороге\n",
      "Отчасти\n",
      "по\n",
      "воздуху\n",
      "плавно\n",
      "летит\n",
      "зала\n",
      "лапу\n",
      "\n"
     ]
    }
   ],
   "source": [
    "#Задание 3\n",
    "\n",
    "#1. вводим переменную\n",
    "stikh = \"\"\"Несчастная кошка порезала лапу- \n",
    "Сидит, и ни шагу не может ступить.\n",
    "Скорей, чтобы вылечить кошкину лапу\n",
    "Воздушные шарики надо купить!\n",
    "\n",
    "И сразу столпился народ на дороге-\n",
    "Шумит, и кричит, и на кошку глядит.\n",
    "А кошка отчасти идет по дороге,\n",
    "Отчасти по воздуху плавно летит!\"\"\"\n",
    "\n",
    "#2. считаем длину текста\n",
    "print(len(stikh))\n",
    "\n",
    "#3. удаляем пунктуацию\n",
    "from string import punctuation\n",
    "st = [i.strip(punctuation) for i in stikh.split()]  \n",
    "print(st)\n",
    "\n",
    "#4. объединяем слова из получившегося списка в строку через пробел\n",
    "print(' '.join(st))\n",
    "\n",
    "#6. длина текста в словах\n",
    "print(len(st))\n",
    "\n",
    "#8. последние 10 слов\n",
    "print(st[-10:])\n",
    "\n",
    "#9. Соединить полученный в пункте 3 список в строку. Слова в строке должны быть написаны через знак переноса строки.\n",
    "strstikh = \"\\n\".join(st)\n",
    "print(strstikh)\n",
    "\n",
    "#10. Распечатать с 20 по 30 символ этой строки (включительно).\n",
    "print(strstikh[21:31])"
   ]
  },
  {
   "cell_type": "code",
   "execution_count": null,
   "metadata": {},
   "outputs": [],
   "source": []
  }
 ],
 "metadata": {
  "kernelspec": {
   "display_name": "Python 3",
   "language": "python",
   "name": "python3"
  },
  "language_info": {
   "codemirror_mode": {
    "name": "ipython",
    "version": 3
   },
   "file_extension": ".py",
   "mimetype": "text/x-python",
   "name": "python",
   "nbconvert_exporter": "python",
   "pygments_lexer": "ipython3",
   "version": "3.6.5"
  }
 },
 "nbformat": 4,
 "nbformat_minor": 2
}
